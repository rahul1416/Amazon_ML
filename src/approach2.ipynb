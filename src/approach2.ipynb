{
 "cells": [
  {
   "cell_type": "code",
   "execution_count": 3,
   "metadata": {},
   "outputs": [],
   "source": [
    "import os\n",
    "import pandas as pd"
   ]
  },
  {
   "cell_type": "code",
   "execution_count": 4,
   "metadata": {},
   "outputs": [],
   "source": [
    "DATASET_FOLDER = '../dataset/'\n",
    "train = pd.read_csv(os.path.join(DATASET_FOLDER, 'train.csv'))\n",
    "test = pd.read_csv(os.path.join(DATASET_FOLDER, 'test.csv'))"
   ]
  },
  {
   "cell_type": "code",
   "execution_count": 5,
   "metadata": {},
   "outputs": [],
   "source": [
    "def findUnits(text):\n",
    "    import re\n",
    "    pattern = r\"(\\d+(?:\\.\\d+)?)\\s*([A-Za-z]+)\"\n",
    "    matches = re.findall(pattern, text)\n",
    "    return matches"
   ]
  },
  {
   "cell_type": "code",
   "execution_count": 23,
   "metadata": {},
   "outputs": [],
   "source": [
    "def extractedEntityValue(entity_name, unit_list):\n",
    "    # Unit normalization for more robust handling\n",
    "    def normalize_unit(entity, unit):\n",
    "        unit = unit.lower()\n",
    "        \n",
    "        if entity in ['voltage']:\n",
    "            if unit in ['v', 'volts', 'volt']:\n",
    "                return 'volt'\n",
    "            if unit in ['kv', 'kilovolt']:\n",
    "                return 'kilovolt'\n",
    "            if unit in ['mv', 'millivolt']:\n",
    "                return 'millivolt'\n",
    "        \n",
    "        elif entity in ['wattage']:\n",
    "            if unit in ['w', 'watt', 'watts']:\n",
    "                return 'watt'\n",
    "            if unit in ['kw', 'kilowatt']:\n",
    "                return 'kilowatt'\n",
    "        \n",
    "        elif entity in ['item_volume']:\n",
    "            if unit in ['ml', 'millilitre', 'milliliters']:\n",
    "                return 'ml'\n",
    "            if unit in ['floz', 'fluid ounce', 'oz', 'ounce']:\n",
    "                return 'floz'\n",
    "            if unit in ['cut', 'cubic foot']:\n",
    "                return 'cut'\n",
    "        \n",
    "        elif entity in ['depth', 'width', 'height']:\n",
    "            if unit in ['mm', 'millimetre', 'millimeters']:\n",
    "                return 'mm'\n",
    "            if unit in ['cm', 'centimetre', 'centimeters']:\n",
    "                return 'cm'\n",
    "            if unit in ['m', 'metre', 'meters']:\n",
    "                return 'm'\n",
    "            if unit in ['in', 'inch', 'inches']:\n",
    "                return 'in'\n",
    "        \n",
    "        elif entity in ['item_weight', 'maximum_weight_recommendation']:\n",
    "            if unit in ['g', 'gm', 'gms', 'grams', 'gn', 'gsm']:\n",
    "                return 'g'\n",
    "            if unit in ['kg', 'kgs', 'kilogram', 'kilograms']:\n",
    "                return 'kg'\n",
    "            if unit in ['mg', 'milligram', 'milligrams']:\n",
    "                return 'mg'\n",
    "            if unit in ['oz', 'ounce', 'ounces']:\n",
    "                return 'oz'\n",
    "            if unit in ['lbs', 'pound', 'pounds']:\n",
    "                return 'pound'\n",
    "        \n",
    "        return unit\n",
    "\n",
    "    # Extract voltage\n",
    "    if entity_name == 'voltage':\n",
    "        volt_list = [float(x[0]) for x in unit_list if normalize_unit('voltage', x[1]) == 'volt']\n",
    "        return f\"{max(volt_list)} volt\" if volt_list else \"\"\n",
    "\n",
    "    # Extract wattage\n",
    "    elif entity_name == 'wattage':\n",
    "        watt_list = [float(x[0]) for x in unit_list if normalize_unit('wattage', x[1]) == 'watt']\n",
    "        return f\"{max(watt_list)} watt\" if watt_list else \"\"\n",
    "\n",
    "    # Extract item volume\n",
    "    elif entity_name == 'item_volume':\n",
    "        volume_list = [(float(x[0]), normalize_unit('item_volume', x[1])) for x in unit_list]\n",
    "        if volume_list:\n",
    "            max_value, unit = max(volume_list)\n",
    "            unit_name = {'ml': 'millilitre', 'floz': 'fluid ounce', 'cut': 'cubic foot'}.get(unit, 'ounce')\n",
    "            return f\"{max_value} {unit_name}\"\n",
    "        return \"\"\n",
    "\n",
    "    # Extract dimensions (depth, width, height)\n",
    "    elif entity_name in ['depth', 'width', 'height']:\n",
    "        import random\n",
    "        dimension_list = [(float(x[0]), normalize_unit(entity_name, x[1])) for x in unit_list]\n",
    "        if dimension_list:\n",
    "            idx = random.randint(0, len(dimension_list) - 1)\n",
    "            max_value, unit = dimension_list[idx]\n",
    "            unit_name = {'mm': 'millimeter', 'cm': 'centimeter', 'm': 'meter', 'in': 'inch'}.get(unit)\n",
    "            return f\"{max_value} {unit_name}\"\n",
    "        return \"\"\n",
    "\n",
    "    # Extract item weight or maximum weight recommendation\n",
    "    elif entity_name in ['item_weight', 'maximum_weight_recommendation']:\n",
    "        conversion_factors = {\n",
    "            \"mg\": 1 / 1000,  # Convert mg to grams\n",
    "            \"g\": 1,          # grams as base unit\n",
    "            \"kg\": 1000,      # Convert kg to grams\n",
    "            \"oz\": 28.34,     # Convert oz to grams\n",
    "            \"pound\": 453.62  # Convert pound to grams\n",
    "        }\n",
    "\n",
    "        weight_list = [(float(x[0]) * conversion_factors[normalize_unit('item_weight', x[1])], \n",
    "                        float(x[0]), normalize_unit('item_weight', x[1]))\n",
    "                       for x in unit_list if normalize_unit('item_weight', x[1]) in conversion_factors]\n",
    "\n",
    "        if weight_list:\n",
    "            _, max_value, unit = max(weight_list)\n",
    "            unit_name = {\"mg\": \"milligram\", \"g\": \"gram\", \"kg\": \"kilogram\", \"oz\": \"ounce\", \"pound\": \"pound\"}[unit]\n",
    "            return f\"{max_value} {unit_name}\"\n",
    "        return \"\"\n",
    "\n",
    "    return \"\"\n"
   ]
  },
  {
   "cell_type": "code",
   "execution_count": 20,
   "metadata": {},
   "outputs": [],
   "source": []
  },
  {
   "cell_type": "code",
   "execution_count": 7,
   "metadata": {},
   "outputs": [
    {
     "name": "stdout",
     "output_type": "stream",
     "text": [
      "            image_file                                           ocr_text\n",
      "0      41CZmN2nxnS.jpg  5g Fiber Jo6ns 60 190Calories p.p.s.open here ...\n",
      "1      41q0Vddrg7S.jpg                        3.3 in/8.5 cm 2.5 in/6.5 cm\n",
      "2      41IvgHo9iUL.jpg                             2.3cm/0.9\" 22.5cm/8.9\"\n",
      "3      41cgZ+EJcsL.jpg                            91.44cm 96.52cm 60.96cm\n",
      "4      41cnxkr8VrL.jpg     13.39inch/340mm 10.63inch/270mm 4.72inch/120mm\n",
      "...                ...                                                ...\n",
      "90661  519XvU8UsgL.jpg                                    5cm 22cm 18.5cm\n",
      "90662  513janpTTEL.jpg                                   45cm 15cm 30.5cm\n",
      "90663  515SIsjMkEL.jpg                                                 8\"\n",
      "90664  519F04JTChL.jpg              Product Size 8.6CM SANGINE 8.6CM 4pcs\n",
      "90665  517UxJ+xN7L.jpg  10G PROTEIN 10GPRO 106PROTEW OG PROTEN ZERO OG...\n",
      "\n",
      "[90666 rows x 2 columns]\n"
     ]
    }
   ],
   "source": [
    "import pandas as pd\n",
    "import glob\n",
    "\n",
    "# List all CSV files in a directory\n",
    "csv_files = glob.glob('../dataset/merged/*.csv')\n",
    "\n",
    "# Read and concatenate all CSV files\n",
    "df = pd.concat((pd.read_csv(file) for file in csv_files), ignore_index=True)\n",
    "\n",
    "# Print the combined DataFrame\n",
    "print(df)"
   ]
  },
  {
   "cell_type": "code",
   "execution_count": 8,
   "metadata": {},
   "outputs": [
    {
     "data": {
      "text/html": [
       "<div>\n",
       "<style scoped>\n",
       "    .dataframe tbody tr th:only-of-type {\n",
       "        vertical-align: middle;\n",
       "    }\n",
       "\n",
       "    .dataframe tbody tr th {\n",
       "        vertical-align: top;\n",
       "    }\n",
       "\n",
       "    .dataframe thead th {\n",
       "        text-align: right;\n",
       "    }\n",
       "</style>\n",
       "<table border=\"1\" class=\"dataframe\">\n",
       "  <thead>\n",
       "    <tr style=\"text-align: right;\">\n",
       "      <th></th>\n",
       "      <th>image_file</th>\n",
       "      <th>ocr_text</th>\n",
       "    </tr>\n",
       "  </thead>\n",
       "  <tbody>\n",
       "    <tr>\n",
       "      <th>80791</th>\n",
       "      <td>81nFVVw7uUS.jpg</td>\n",
       "      <td>akyga AKNB12A008346 Professional Power Supply ...</td>\n",
       "    </tr>\n",
       "  </tbody>\n",
       "</table>\n",
       "</div>"
      ],
      "text/plain": [
       "            image_file                                           ocr_text\n",
       "80791  81nFVVw7uUS.jpg  akyga AKNB12A008346 Professional Power Supply ..."
      ]
     },
     "execution_count": 8,
     "metadata": {},
     "output_type": "execute_result"
    }
   ],
   "source": [
    "df.sample()"
   ]
  },
  {
   "cell_type": "code",
   "execution_count": 9,
   "metadata": {},
   "outputs": [
    {
     "data": {
      "text/plain": [
       "0        'https://m.media-amazon.com/images/I/41CZmN2nx...\n",
       "1        'https://m.media-amazon.com/images/I/41q0Vddrg...\n",
       "2        'https://m.media-amazon.com/images/I/41IvgHo9i...\n",
       "3        'https://m.media-amazon.com/images/I/41cgZ+EJc...\n",
       "4        'https://m.media-amazon.com/images/I/41cnxkr8V...\n",
       "                               ...                        \n",
       "90661    'https://m.media-amazon.com/images/I/519XvU8Us...\n",
       "90662    'https://m.media-amazon.com/images/I/513janpTT...\n",
       "90663    'https://m.media-amazon.com/images/I/515SIsjMk...\n",
       "90664    'https://m.media-amazon.com/images/I/519F04JTC...\n",
       "90665    'https://m.media-amazon.com/images/I/517UxJ+xN...\n",
       "Name: image_file, Length: 90666, dtype: object"
      ]
     },
     "execution_count": 9,
     "metadata": {},
     "output_type": "execute_result"
    }
   ],
   "source": [
    "df['image_file'].apply(lambda x: f\"'https://m.media-amazon.com/images/I/{x}.jpg'\")"
   ]
  },
  {
   "cell_type": "code",
   "execution_count": 10,
   "metadata": {},
   "outputs": [
    {
     "data": {
      "text/plain": [
       "'https://m.media-amazon.com/images/I/110EibNyclL.jpg'"
      ]
     },
     "execution_count": 10,
     "metadata": {},
     "output_type": "execute_result"
    }
   ],
   "source": [
    "test.iloc[0]['image_link']"
   ]
  },
  {
   "cell_type": "code",
   "execution_count": 13,
   "metadata": {},
   "outputs": [
    {
     "name": "stdout",
     "output_type": "stream",
     "text": [
      "(131187, 6)\n",
      "Index(['index', 'image_link', 'group_id', 'entity_name', 'image_file',\n",
      "       'ocr_text'],\n",
      "      dtype='object')\n"
     ]
    }
   ],
   "source": [
    "# Step 1: Extract the image filename from the image_link in test\n",
    "test['image_file'] = test['image_link'].apply(lambda x: x.split('/')[-1])\n",
    "\n",
    "# Step 2: Merge the df and test DataFrames on the image_file\n",
    "merged_df = test.merge(df[['image_file', 'ocr_text']], on='image_file', how='left')\n",
    "\n",
    "# Step 3: Display the shape and columns of the merged DataFrame\n",
    "print(merged_df.shape)\n",
    "print(merged_df.columns)\n",
    "\n",
    "# # Step 4: Save the merged DataFrame to a CSV file (optional)\n",
    "# merged_df.to_csv(\"merged_ocr_test_results.csv\", index=False)\n"
   ]
  },
  {
   "cell_type": "code",
   "execution_count": null,
   "metadata": {},
   "outputs": [],
   "source": []
  },
  {
   "cell_type": "code",
   "execution_count": 15,
   "metadata": {},
   "outputs": [
    {
     "data": {
      "text/html": [
       "<div>\n",
       "<style scoped>\n",
       "    .dataframe tbody tr th:only-of-type {\n",
       "        vertical-align: middle;\n",
       "    }\n",
       "\n",
       "    .dataframe tbody tr th {\n",
       "        vertical-align: top;\n",
       "    }\n",
       "\n",
       "    .dataframe thead th {\n",
       "        text-align: right;\n",
       "    }\n",
       "</style>\n",
       "<table border=\"1\" class=\"dataframe\">\n",
       "  <thead>\n",
       "    <tr style=\"text-align: right;\">\n",
       "      <th></th>\n",
       "      <th>index</th>\n",
       "      <th>image_link</th>\n",
       "      <th>group_id</th>\n",
       "      <th>entity_name</th>\n",
       "      <th>image_file</th>\n",
       "      <th>ocr_text</th>\n",
       "    </tr>\n",
       "  </thead>\n",
       "  <tbody>\n",
       "    <tr>\n",
       "      <th>0</th>\n",
       "      <td>0</td>\n",
       "      <td>https://m.media-amazon.com/images/I/110EibNycl...</td>\n",
       "      <td>156839</td>\n",
       "      <td>height</td>\n",
       "      <td>110EibNyclL.jpg</td>\n",
       "      <td>2.63in 6.68cm 91.44cm - 199.39cm 36in - 78in</td>\n",
       "    </tr>\n",
       "    <tr>\n",
       "      <th>1</th>\n",
       "      <td>1</td>\n",
       "      <td>https://m.media-amazon.com/images/I/11TU2clswz...</td>\n",
       "      <td>792578</td>\n",
       "      <td>width</td>\n",
       "      <td>11TU2clswzL.jpg</td>\n",
       "      <td>Size Width Length One Size 42cm/16.54\" 200cm/7...</td>\n",
       "    </tr>\n",
       "    <tr>\n",
       "      <th>2</th>\n",
       "      <td>2</td>\n",
       "      <td>https://m.media-amazon.com/images/I/11TU2clswz...</td>\n",
       "      <td>792578</td>\n",
       "      <td>height</td>\n",
       "      <td>11TU2clswzL.jpg</td>\n",
       "      <td>Size Width Length One Size 42cm/16.54\" 200cm/7...</td>\n",
       "    </tr>\n",
       "    <tr>\n",
       "      <th>3</th>\n",
       "      <td>3</td>\n",
       "      <td>https://m.media-amazon.com/images/I/11TU2clswz...</td>\n",
       "      <td>792578</td>\n",
       "      <td>depth</td>\n",
       "      <td>11TU2clswzL.jpg</td>\n",
       "      <td>Size Width Length One Size 42cm/16.54\" 200cm/7...</td>\n",
       "    </tr>\n",
       "    <tr>\n",
       "      <th>4</th>\n",
       "      <td>4</td>\n",
       "      <td>https://m.media-amazon.com/images/I/11gHj8dhhr...</td>\n",
       "      <td>792578</td>\n",
       "      <td>depth</td>\n",
       "      <td>11gHj8dhhrL.jpg</td>\n",
       "      <td>Size Width Length One Size 10.50cm/4.13\" 90cm/...</td>\n",
       "    </tr>\n",
       "    <tr>\n",
       "      <th>...</th>\n",
       "      <td>...</td>\n",
       "      <td>...</td>\n",
       "      <td>...</td>\n",
       "      <td>...</td>\n",
       "      <td>...</td>\n",
       "      <td>...</td>\n",
       "    </tr>\n",
       "    <tr>\n",
       "      <th>131182</th>\n",
       "      <td>131283</td>\n",
       "      <td>https://m.media-amazon.com/images/I/A1rVsIzEtk...</td>\n",
       "      <td>721522</td>\n",
       "      <td>maximum_weight_recommendation</td>\n",
       "      <td>A1rVsIzEtkL.jpg</td>\n",
       "      <td>FOREMAN 1,500 LB weight capacity</td>\n",
       "    </tr>\n",
       "    <tr>\n",
       "      <th>131183</th>\n",
       "      <td>131284</td>\n",
       "      <td>https://m.media-amazon.com/images/I/A1rdvZ5zDd...</td>\n",
       "      <td>603688</td>\n",
       "      <td>item_weight</td>\n",
       "      <td>A1rdvZ5zDdL.jpg</td>\n",
       "      <td>BUILT-INEHANDLES SAFETY AND MANEUVERABILITY. M...</td>\n",
       "    </tr>\n",
       "    <tr>\n",
       "      <th>131184</th>\n",
       "      <td>131285</td>\n",
       "      <td>https://m.media-amazon.com/images/I/A1rdvZ5zDd...</td>\n",
       "      <td>603688</td>\n",
       "      <td>maximum_weight_recommendation</td>\n",
       "      <td>A1rdvZ5zDdL.jpg</td>\n",
       "      <td>BUILT-INEHANDLES SAFETY AND MANEUVERABILITY. M...</td>\n",
       "    </tr>\n",
       "    <tr>\n",
       "      <th>131185</th>\n",
       "      <td>131286</td>\n",
       "      <td>https://m.media-amazon.com/images/I/A1tnTUPyr7...</td>\n",
       "      <td>853009</td>\n",
       "      <td>item_weight</td>\n",
       "      <td>A1tnTUPyr7L.jpg</td>\n",
       "      <td>DOGNAM JOSSIE HUMAN NAMI VIeToR 955123-1/567</td>\n",
       "    </tr>\n",
       "    <tr>\n",
       "      <th>131186</th>\n",
       "      <td>131287</td>\n",
       "      <td>https://m.media-amazon.com/images/I/A1tnTUPyr7...</td>\n",
       "      <td>853009</td>\n",
       "      <td>maximum_weight_recommendation</td>\n",
       "      <td>A1tnTUPyr7L.jpg</td>\n",
       "      <td>DOGNAM JOSSIE HUMAN NAMI VIeToR 955123-1/567</td>\n",
       "    </tr>\n",
       "  </tbody>\n",
       "</table>\n",
       "<p>131187 rows × 6 columns</p>\n",
       "</div>"
      ],
      "text/plain": [
       "         index                                         image_link  group_id  \\\n",
       "0            0  https://m.media-amazon.com/images/I/110EibNycl...    156839   \n",
       "1            1  https://m.media-amazon.com/images/I/11TU2clswz...    792578   \n",
       "2            2  https://m.media-amazon.com/images/I/11TU2clswz...    792578   \n",
       "3            3  https://m.media-amazon.com/images/I/11TU2clswz...    792578   \n",
       "4            4  https://m.media-amazon.com/images/I/11gHj8dhhr...    792578   \n",
       "...        ...                                                ...       ...   \n",
       "131182  131283  https://m.media-amazon.com/images/I/A1rVsIzEtk...    721522   \n",
       "131183  131284  https://m.media-amazon.com/images/I/A1rdvZ5zDd...    603688   \n",
       "131184  131285  https://m.media-amazon.com/images/I/A1rdvZ5zDd...    603688   \n",
       "131185  131286  https://m.media-amazon.com/images/I/A1tnTUPyr7...    853009   \n",
       "131186  131287  https://m.media-amazon.com/images/I/A1tnTUPyr7...    853009   \n",
       "\n",
       "                          entity_name       image_file  \\\n",
       "0                              height  110EibNyclL.jpg   \n",
       "1                               width  11TU2clswzL.jpg   \n",
       "2                              height  11TU2clswzL.jpg   \n",
       "3                               depth  11TU2clswzL.jpg   \n",
       "4                               depth  11gHj8dhhrL.jpg   \n",
       "...                               ...              ...   \n",
       "131182  maximum_weight_recommendation  A1rVsIzEtkL.jpg   \n",
       "131183                    item_weight  A1rdvZ5zDdL.jpg   \n",
       "131184  maximum_weight_recommendation  A1rdvZ5zDdL.jpg   \n",
       "131185                    item_weight  A1tnTUPyr7L.jpg   \n",
       "131186  maximum_weight_recommendation  A1tnTUPyr7L.jpg   \n",
       "\n",
       "                                                 ocr_text  \n",
       "0            2.63in 6.68cm 91.44cm - 199.39cm 36in - 78in  \n",
       "1       Size Width Length One Size 42cm/16.54\" 200cm/7...  \n",
       "2       Size Width Length One Size 42cm/16.54\" 200cm/7...  \n",
       "3       Size Width Length One Size 42cm/16.54\" 200cm/7...  \n",
       "4       Size Width Length One Size 10.50cm/4.13\" 90cm/...  \n",
       "...                                                   ...  \n",
       "131182                   FOREMAN 1,500 LB weight capacity  \n",
       "131183  BUILT-INEHANDLES SAFETY AND MANEUVERABILITY. M...  \n",
       "131184  BUILT-INEHANDLES SAFETY AND MANEUVERABILITY. M...  \n",
       "131185       DOGNAM JOSSIE HUMAN NAMI VIeToR 955123-1/567  \n",
       "131186       DOGNAM JOSSIE HUMAN NAMI VIeToR 955123-1/567  \n",
       "\n",
       "[131187 rows x 6 columns]"
      ]
     },
     "execution_count": 15,
     "metadata": {},
     "output_type": "execute_result"
    }
   ],
   "source": [
    "merged_df"
   ]
  },
  {
   "cell_type": "code",
   "execution_count": 16,
   "metadata": {},
   "outputs": [],
   "source": [
    "# Step 1: Rename the final unit column to prediction (if applicable)\n",
    "merged_df = merged_df.rename(columns={\"final_unit\": \"prediction\"})\n",
    "\n",
    "# Step 2: Select only the index and prediction columns\n",
    "# Note: If your index is already a DataFrame column, include it directly; if not, reset the index\n",
    "# output_df = merged_df[[\"index\", \"prediction\"]]\n",
    "\n",
    "merged_df['detected_unit'] = merged_df.ocr_text.apply(lambda x:findUnits(str(x)))\n",
    "merged_df['final_unit']=merged_df.apply(lambda x: extractedEntityValue(x['entity_name'],x['detected_unit']),axis=1)\n"
   ]
  },
  {
   "cell_type": "code",
   "execution_count": 25,
   "metadata": {},
   "outputs": [],
   "source": [
    "merged_df['final_unit']=merged_df.apply(lambda x: extractedEntityValue(x['entity_name'],x['detected_unit']),axis=1)"
   ]
  },
  {
   "cell_type": "code",
   "execution_count": 27,
   "metadata": {},
   "outputs": [],
   "source": [
    "merged_df = merged_df.rename(columns={\"final_unit\": \"prediction\"})\n",
    "output_df = merged_df[[\"index\", \"prediction\"]]"
   ]
  },
  {
   "cell_type": "code",
   "execution_count": 28,
   "metadata": {},
   "outputs": [],
   "source": [
    "output_df.to_csv(\"text_out.csv\", index=False)"
   ]
  },
  {
   "cell_type": "code",
   "execution_count": null,
   "metadata": {},
   "outputs": [],
   "source": []
  }
 ],
 "metadata": {
  "kernelspec": {
   "display_name": "base",
   "language": "python",
   "name": "python3"
  },
  "language_info": {
   "codemirror_mode": {
    "name": "ipython",
    "version": 3
   },
   "file_extension": ".py",
   "mimetype": "text/x-python",
   "name": "python",
   "nbconvert_exporter": "python",
   "pygments_lexer": "ipython3",
   "version": "3.11.5"
  }
 },
 "nbformat": 4,
 "nbformat_minor": 2
}

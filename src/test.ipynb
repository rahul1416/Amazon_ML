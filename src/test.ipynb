{
 "cells": [
  {
   "cell_type": "markdown",
   "id": "1b70b34e",
   "metadata": {},
   "source": [
    "### Basic library imports"
   ]
  },
  {
   "cell_type": "code",
   "execution_count": 3,
   "id": "719d15af",
   "metadata": {},
   "outputs": [],
   "source": [
    "import os\n",
    "import pandas as pd"
   ]
  },
  {
   "cell_type": "markdown",
   "id": "b8911e33",
   "metadata": {},
   "source": [
    "### Read Dataset"
   ]
  },
  {
   "cell_type": "code",
   "execution_count": 4,
   "id": "d3136aac",
   "metadata": {},
   "outputs": [],
   "source": [
    "DATASET_FOLDER = '../dataset/'\n",
    "train = pd.read_csv(os.path.join(DATASET_FOLDER, 'train.csv'))\n",
    "test = pd.read_csv(os.path.join(DATASET_FOLDER, 'test.csv'))\n",
    "sample_test = pd.read_csv(os.path.join(DATASET_FOLDER, 'sample_test.csv'))\n",
    "sample_test_out = pd.read_csv(os.path.join(DATASET_FOLDER, 'sample_test_out.csv'))"
   ]
  },
  {
   "cell_type": "markdown",
   "id": "60ebd689",
   "metadata": {},
   "source": [
    "### Run Sanity check using src/sanity.py"
   ]
  },
  {
   "cell_type": "code",
   "execution_count": 3,
   "id": "81bb3988",
   "metadata": {},
   "outputs": [
    {
     "name": "stdout",
     "output_type": "stream",
     "text": [
      "Parsing successfull for file: ../dataset/sample_test_out.csv\n"
     ]
    }
   ],
   "source": [
    "!python sanity.py --test_filename ../dataset/sample_test.csv --output_filename ../dataset/sample_test_out.csv"
   ]
  },
  {
   "cell_type": "code",
   "execution_count": 4,
   "id": "5aa79459",
   "metadata": {},
   "outputs": [
    {
     "name": "stdout",
     "output_type": "stream",
     "text": [
      "Error: Invalid unit [lbs] found in 6.75 lbs. Allowed units: {'millilitre', 'yard', 'imperial gallon', 'foot', 'millimetre', 'gallon', 'milligram', 'litre', 'cup', 'pound', 'microlitre', 'volt', 'centimetre', 'watt', 'metre', 'ton', 'ounce', 'pint', 'gram', 'quart', 'cubic foot', 'kilowatt', 'centilitre', 'millivolt', 'kilovolt', 'cubic inch', 'decilitre', 'fluid ounce', 'kilogram', 'inch', 'microgram'}\n"
     ]
    }
   ],
   "source": [
    "!python sanity.py --test_filename ../dataset/sample_test.csv --output_filename ../dataset/sample_test_out_fail.csv"
   ]
  },
  {
   "cell_type": "markdown",
   "id": "dbe930a8",
   "metadata": {},
   "source": [
    "### Download images"
   ]
  },
  {
   "cell_type": "code",
   "execution_count": 5,
   "id": "a3d1aad8",
   "metadata": {},
   "outputs": [],
   "source": [
    "# from utils import download_images\n",
    "# download_images(sample_test['image_link'], '../images')"
   ]
  },
  {
   "cell_type": "code",
   "execution_count": 6,
   "id": "89aaba53",
   "metadata": {},
   "outputs": [],
   "source": [
    "assert len(os.listdir('../images')) > 0"
   ]
  },
  {
   "cell_type": "code",
   "execution_count": 8,
   "id": "1ba3d802",
   "metadata": {},
   "outputs": [
    {
     "data": {
      "text/html": [
       "<div>\n",
       "<style scoped>\n",
       "    .dataframe tbody tr th:only-of-type {\n",
       "        vertical-align: middle;\n",
       "    }\n",
       "\n",
       "    .dataframe tbody tr th {\n",
       "        vertical-align: top;\n",
       "    }\n",
       "\n",
       "    .dataframe thead th {\n",
       "        text-align: right;\n",
       "    }\n",
       "</style>\n",
       "<table border=\"1\" class=\"dataframe\">\n",
       "  <thead>\n",
       "    <tr style=\"text-align: right;\">\n",
       "      <th></th>\n",
       "      <th>image_link</th>\n",
       "      <th>group_id</th>\n",
       "      <th>entity_name</th>\n",
       "      <th>entity_value</th>\n",
       "    </tr>\n",
       "  </thead>\n",
       "  <tbody>\n",
       "    <tr>\n",
       "      <th>0</th>\n",
       "      <td>https://m.media-amazon.com/images/I/61I9XdN6OF...</td>\n",
       "      <td>748919</td>\n",
       "      <td>item_weight</td>\n",
       "      <td>500.0 gram</td>\n",
       "    </tr>\n",
       "    <tr>\n",
       "      <th>1</th>\n",
       "      <td>https://m.media-amazon.com/images/I/71gSRbyXmo...</td>\n",
       "      <td>916768</td>\n",
       "      <td>item_volume</td>\n",
       "      <td>1.0 cup</td>\n",
       "    </tr>\n",
       "    <tr>\n",
       "      <th>2</th>\n",
       "      <td>https://m.media-amazon.com/images/I/61BZ4zrjZX...</td>\n",
       "      <td>459516</td>\n",
       "      <td>item_weight</td>\n",
       "      <td>0.709 gram</td>\n",
       "    </tr>\n",
       "    <tr>\n",
       "      <th>3</th>\n",
       "      <td>https://m.media-amazon.com/images/I/612mrlqiI4...</td>\n",
       "      <td>459516</td>\n",
       "      <td>item_weight</td>\n",
       "      <td>0.709 gram</td>\n",
       "    </tr>\n",
       "  </tbody>\n",
       "</table>\n",
       "</div>"
      ],
      "text/plain": [
       "                                          image_link  group_id  entity_name  \\\n",
       "0  https://m.media-amazon.com/images/I/61I9XdN6OF...    748919  item_weight   \n",
       "1  https://m.media-amazon.com/images/I/71gSRbyXmo...    916768  item_volume   \n",
       "2  https://m.media-amazon.com/images/I/61BZ4zrjZX...    459516  item_weight   \n",
       "3  https://m.media-amazon.com/images/I/612mrlqiI4...    459516  item_weight   \n",
       "\n",
       "  entity_value  \n",
       "0   500.0 gram  \n",
       "1      1.0 cup  \n",
       "2   0.709 gram  \n",
       "3   0.709 gram  "
      ]
     },
     "execution_count": 8,
     "metadata": {},
     "output_type": "execute_result"
    }
   ],
   "source": [
    "train.iloc[:4]"
   ]
  },
  {
   "cell_type": "code",
   "execution_count": 10,
   "id": "6c38a641",
   "metadata": {},
   "outputs": [
    {
     "data": {
      "text/html": [
       "<div>\n",
       "<style scoped>\n",
       "    .dataframe tbody tr th:only-of-type {\n",
       "        vertical-align: middle;\n",
       "    }\n",
       "\n",
       "    .dataframe tbody tr th {\n",
       "        vertical-align: top;\n",
       "    }\n",
       "\n",
       "    .dataframe thead th {\n",
       "        text-align: right;\n",
       "    }\n",
       "</style>\n",
       "<table border=\"1\" class=\"dataframe\">\n",
       "  <thead>\n",
       "    <tr style=\"text-align: right;\">\n",
       "      <th></th>\n",
       "      <th>index</th>\n",
       "      <th>image_link</th>\n",
       "      <th>group_id</th>\n",
       "      <th>entity_name</th>\n",
       "    </tr>\n",
       "  </thead>\n",
       "  <tbody>\n",
       "    <tr>\n",
       "      <th>0</th>\n",
       "      <td>0</td>\n",
       "      <td>https://m.media-amazon.com/images/I/110EibNycl...</td>\n",
       "      <td>156839</td>\n",
       "      <td>height</td>\n",
       "    </tr>\n",
       "    <tr>\n",
       "      <th>1</th>\n",
       "      <td>1</td>\n",
       "      <td>https://m.media-amazon.com/images/I/11TU2clswz...</td>\n",
       "      <td>792578</td>\n",
       "      <td>width</td>\n",
       "    </tr>\n",
       "    <tr>\n",
       "      <th>2</th>\n",
       "      <td>2</td>\n",
       "      <td>https://m.media-amazon.com/images/I/11TU2clswz...</td>\n",
       "      <td>792578</td>\n",
       "      <td>height</td>\n",
       "    </tr>\n",
       "    <tr>\n",
       "      <th>3</th>\n",
       "      <td>3</td>\n",
       "      <td>https://m.media-amazon.com/images/I/11TU2clswz...</td>\n",
       "      <td>792578</td>\n",
       "      <td>depth</td>\n",
       "    </tr>\n",
       "  </tbody>\n",
       "</table>\n",
       "</div>"
      ],
      "text/plain": [
       "   index                                         image_link  group_id  \\\n",
       "0      0  https://m.media-amazon.com/images/I/110EibNycl...    156839   \n",
       "1      1  https://m.media-amazon.com/images/I/11TU2clswz...    792578   \n",
       "2      2  https://m.media-amazon.com/images/I/11TU2clswz...    792578   \n",
       "3      3  https://m.media-amazon.com/images/I/11TU2clswz...    792578   \n",
       "\n",
       "  entity_name  \n",
       "0      height  \n",
       "1       width  \n",
       "2      height  \n",
       "3       depth  "
      ]
     },
     "execution_count": 10,
     "metadata": {},
     "output_type": "execute_result"
    }
   ],
   "source": [
    "test.iloc[:4]"
   ]
  },
  {
   "cell_type": "code",
   "execution_count": 13,
   "id": "34551776",
   "metadata": {},
   "outputs": [],
   "source": [
    "# !pip install pytesseract\n"
   ]
  },
  {
   "cell_type": "code",
   "execution_count": 8,
   "id": "20824fdd",
   "metadata": {},
   "outputs": [
    {
     "name": "stdout",
     "output_type": "stream",
     "text": [
      "../images/41-NCxNuBxL.jpg\n",
      "20CM\n",
      "\n",
      "15C\n",
      "\n",
      "Done\n",
      "../images/417NJrPEk+L.jpg\n",
      "Deodorizing module Cat litter shovel\n",
      "\n",
      "‘Adsorb harmful substances and reduce odor Regardless of soil sand,\n",
      "\n",
      "‘wood sand, crystal sand,\n",
      "filter unused cat litter\n",
      "\n",
      "Done\n",
      "../images/417SThj+SrL.jpg\n",
      "ated ine\n",
      "— ev\n",
      "assoc one ai\n",
      "Netensspat =\n",
      "Meco Coe 6 0\n",
      "\n",
      "‘Nix Cuting Capac A HOAW2an\n",
      "\n",
      "Done\n"
     ]
    }
   ],
   "source": [
    "import cv2 \n",
    "from pytesseract import pytesseract \n",
    "\n",
    "# Defining paths to tesseract.exe \n",
    "# and the image we would be using \n",
    "path_to_tesseract = r\"C:\\Program Files\\Tesseract-OCR\\tesseract.exe\"\n",
    "files = os.listdir('../images')[:3]\n",
    "for image_path in files:\n",
    "    image_path = f\"../images/{image_path}\"\n",
    "\n",
    "    # Opening the image & storing it in an image object \n",
    "    img =cv2.imread(image_path)\n",
    "    print(image_path)\n",
    "    # Providing the tesseract executable \n",
    "    # location to pytesseract library \n",
    "    pytesseract.tesseract_cmd = path_to_tesseract \n",
    "\n",
    "    # Passing the image object to image_to_string() function \n",
    "    # This function will extract the text from the image \n",
    "    text = pytesseract.image_to_string(img) \n",
    "\n",
    "    # Displaying the extracted text \n",
    "    print(text[:-1])\n",
    "    print(\"Done\")\n"
   ]
  },
  {
   "cell_type": "code",
   "execution_count": 11,
   "id": "04d092f8",
   "metadata": {},
   "outputs": [],
   "source": [
    "# !pip install opencv-python"
   ]
  },
  {
   "cell_type": "code",
   "execution_count": 55,
   "id": "a7b30b80",
   "metadata": {},
   "outputs": [
    {
     "name": "stdout",
     "output_type": "stream",
     "text": [
      "80 PLUS\n",
      "CERTIFICATE\n",
      "\n",
      "LONG CONNECTOR\n",
      "CABLES\n",
      "\n",
      "12CM FAN\n",
      "\n",
      "500 WATTS\n",
      "\n"
     ]
    }
   ],
   "source": [
    "import cv2\n",
    "from pytesseract import pytesseract as tess \n",
    "path_to_tesseract = r\"C:\\Program Files\\Tesseract-OCR\\tesseract.exe\"\n",
    "tess.tesseract_cmd = path_to_tesseract\n",
    "image_path = '../images/71Qk6hR9-WL.jpg'\n",
    "img = cv2.imread(image_path)\n",
    "\n",
    "text = tess.image_to_string(img)\n",
    "print(text)\n",
    "# Convert the image to gray scale\n",
    "# gray = cv2.cvtColor(img, cv2.COLOR_BGR2GRAY)"
   ]
  },
  {
   "cell_type": "code",
   "execution_count": 63,
   "id": "9e7e3ff2",
   "metadata": {},
   "outputs": [
    {
     "data": {
      "text/plain": [
       "'c=\\n\\n80 PLUS\\nCERTIFICATE\\n\\nLONG CONNECTOR\\nCABLES\\n\\n12CM FAN\\n\\n500 WATTS\\n\\n'"
      ]
     },
     "execution_count": 63,
     "metadata": {},
     "output_type": "execute_result"
    }
   ],
   "source": [
    "gray = cv2.cvtColor(img, cv2.COLOR_BGR2GRAY)\n",
    "tess.image_to_string(gray)"
   ]
  },
  {
   "cell_type": "code",
   "execution_count": 64,
   "id": "2371cabb",
   "metadata": {},
   "outputs": [
    {
     "data": {
      "text/plain": [
       "'c=  80 PLUS CERTIFICATE  LONG CONNECTOR CABLES  12CM FAN  500 WATTS  '"
      ]
     },
     "execution_count": 64,
     "metadata": {},
     "output_type": "execute_result"
    }
   ],
   "source": [
    "text = tess.image_to_string(gray)\n",
    "text = text.replace('\\n',' ')\n",
    "text"
   ]
  },
  {
   "cell_type": "code",
   "execution_count": 82,
   "id": "c86d38a9",
   "metadata": {},
   "outputs": [
    {
     "name": "stdout",
     "output_type": "stream",
     "text": [
      "  80 PLUS CERTIFICATE  LONG CONNECTOR CABLES  12CM FAN  500 WATTS   [('80', 'PLUS'), ('12', 'CM'), ('500', 'WATTS')]\n"
     ]
    }
   ],
   "source": [
    "import re\n",
    "\n",
    "c = \"\\n\\n80 PLUS\\nCERTIFICATE\\n\\nLONG CONNECTOR\\nCABLES\\n\\n12CM FAN\\n\\n500 WATTS\\n\\n\"\n",
    "c=c.replace(\"\\n\",\" \")\n",
    "# Regex to match quantities with their units, potentially across multiple lines\n",
    "pattern = r\"(\\d+)\\s*([A-Z]+)\"\n",
    "\n",
    "matches = re.findall(pattern, c)\n",
    "\n",
    "# Print results\n",
    "print(c,matches)\n"
   ]
  },
  {
   "cell_type": "code",
   "execution_count": 22,
   "id": "4a87452c",
   "metadata": {},
   "outputs": [],
   "source": [
    "\n",
    "\n",
    "# Performing OTSU threshold\n",
    "ret, thresh1 = cv2.threshold(gray, 0, 255, cv2.THRESH_OTSU | cv2.THRESH_BINARY_INV)\n",
    "\n",
    "# Specify structure shape and kernel size. \n",
    "# Kernel size increases or decreases the area \n",
    "# of the rectangle to be detected.\n",
    "# A smaller value like (10, 10) will detect \n",
    "# each word instead of a sentence.\n",
    "rect_kernel = cv2.getStructuringElement(cv2.MORPH_RECT, (18, 18))\n",
    "\n",
    "# Applying dilation on the threshold image\n",
    "dilation = cv2.dilate(thresh1, rect_kernel, iterations = 1)\n",
    "\n",
    "# Finding contours\n",
    "contours, hierarchy = cv2.findContours(dilation, cv2.RETR_EXTERNAL, \n",
    "                                                 cv2.CHAIN_APPROX_NONE)\n",
    "\n",
    "# Creating a copy of image\n",
    "im2 = img.copy()\n",
    "\n",
    "# A text file is created and flushed\n",
    "file = open(\"recognized.txt\", \"w+\")\n",
    "file.write(\"\")\n",
    "file.close()\n",
    "\n",
    "# Looping through the identified contours\n",
    "# Then rectangular part is cropped and passed on\n",
    "# to pytesseract for extracting text from it\n",
    "# Extracted text is then written into the text file\n",
    "for cnt in contours:\n",
    "    x, y, w, h = cv2.boundingRect(cnt)\n",
    "    \n",
    "    # Drawing a rectangle on copied image\n",
    "    rect = cv2.rectangle(im2, (x, y), (x + w, y + h), (0, 255, 0), 2)\n",
    "    \n",
    "    # Cropping the text block for giving input to OCR\n",
    "    cropped = im2[y:y + h, x:x + w]\n",
    "    \n",
    "    # Open the file in append mode\n",
    "    file = open(\"recognized.txt\", \"a\")\n",
    "    \n",
    "    # Apply OCR on the cropped image\n",
    "    text = pytesseract.image_to_string(cropped)\n",
    "    \n",
    "    # Appending the text into file\n",
    "    file.write(text)\n",
    "    file.write(\"\\n\")\n",
    "    \n",
    "    # Close the file\n",
    "    file.close()\n",
    "\n",
    "# This code is modified by Susobhan Akhuli\n"
   ]
  },
  {
   "cell_type": "code",
   "execution_count": 27,
   "id": "9beb0959",
   "metadata": {},
   "outputs": [
    {
     "name": "stdout",
     "output_type": "stream",
     "text": [
      "Blade Diameter 505m\n",
      "Rated Vols: nav\n",
      "Frequency: sou\n",
      "Rated Input Power 2100w\n",
      "\n",
      "foLoad Speed 500\n",
      "\n",
      "0° HID W330\n",
      "\n",
      "Max Curing Capacity: 6 Ho) Wisoum\n",
      "\n",
      "‘Mx Cuting Capacity A HO)AW20an\n",
      "\n",
      "\n"
     ]
    }
   ],
   "source": [
    "inverted_image = cv2.bitwise_not(img)\n",
    "print(tess.image_to_string(inverted_image))"
   ]
  },
  {
   "cell_type": "code",
   "execution_count": 47,
   "id": "45540c7e",
   "metadata": {},
   "outputs": [
    {
     "name": "stdout",
     "output_type": "stream",
     "text": [
      "Professional tools\n",
      "\n",
      "Blade Disaster 3030\n",
      "Raed Vota. ov\n",
      "Frequinsy son\n",
      "RuedteputPoxee ai\n",
      "\n",
      "Load Speed 30pm,\n",
      "‘ax Coreng Capacioe Son Won\n",
      "‘Max Curing Capacity. 6 KAO W160\n",
      "\n",
      "‘Mar Cutng Capacity:\n",
      "\n",
      "45° H60 Wm\n",
      "\n",
      "\n"
     ]
    }
   ],
   "source": [
    "thres, img_bw = cv2.threshold(gray,127,200,cv2.THRESH_BINARY)\n",
    "cv2.imwrite('temp/img_bw.jpg',img_bw)\n",
    "print(tess.image_to_string(img_bw))"
   ]
  },
  {
   "cell_type": "code",
   "execution_count": 80,
   "id": "614fc474",
   "metadata": {},
   "outputs": [],
   "source": [
    "# !pip install paddleocr"
   ]
  },
  {
   "cell_type": "code",
   "execution_count": 54,
   "id": "12dee1be",
   "metadata": {},
   "outputs": [],
   "source": [
    "\n",
    "# from paddleocr import PaddleOCR\n",
    "# ocr = PaddleOCR(use_angle_cls=True, lang='en')\n",
    "# result = ocr.ocr(img)"
   ]
  },
  {
   "cell_type": "code",
   "execution_count": null,
   "id": "291e2e0b",
   "metadata": {},
   "outputs": [],
   "source": []
  }
 ],
 "metadata": {
  "kernelspec": {
   "display_name": "base",
   "language": "python",
   "name": "python3"
  },
  "language_info": {
   "codemirror_mode": {
    "name": "ipython",
    "version": 3
   },
   "file_extension": ".py",
   "mimetype": "text/x-python",
   "name": "python",
   "nbconvert_exporter": "python",
   "pygments_lexer": "ipython3",
   "version": "3.11.5"
  }
 },
 "nbformat": 4,
 "nbformat_minor": 5
}
